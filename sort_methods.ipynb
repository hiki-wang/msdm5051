{
 "cells": [
  {
   "cell_type": "code",
   "execution_count": 173,
   "metadata": {
    "collapsed": true
   },
   "outputs": [],
   "source": [
    "import pandas as pd\n",
    "import numpy as np\n",
    "import random\n",
    "import matplotlib.pyplot as plt\n",
    "import time"
   ]
  },
  {
   "cell_type": "code",
   "execution_count": 174,
   "outputs": [],
   "source": [
    "# bubble sort\n",
    "def bubble_sort(arr):\n",
    "    n = len(arr)\n",
    "    for i in range(n):\n",
    "        for j in range(0,n-i-1):\n",
    "            if arr[j]>arr[j+1]:\n",
    "                arr[j], arr[j+1] = arr[j+1], arr[j]"
   ],
   "metadata": {
    "collapsed": false
   }
  },
  {
   "cell_type": "code",
   "execution_count": 175,
   "outputs": [],
   "source": [
    "# selection_sort\n",
    "def selection_sort(arr):\n",
    "    n = len(arr)\n",
    "    for i in range(n):\n",
    "        min_idx = i\n",
    "        for j in range(i+1, n):\n",
    "            if arr[j] < arr[min_idx]:\n",
    "                min_idx = j\n",
    "        arr[i], arr[min_idx] = arr[min_idx], arr[i]"
   ],
   "metadata": {
    "collapsed": false
   }
  },
  {
   "cell_type": "code",
   "execution_count": 176,
   "outputs": [],
   "source": [
    "# insertion sort\n",
    "def insertion_sort(arr):\n",
    "    for i in range(1, len(arr)):\n",
    "        key = arr[i]\n",
    "        j = i-1\n",
    "        while j >=0 and key < arr[j]:\n",
    "            arr[j+1] = arr[j]\n",
    "            j -= 1\n",
    "        arr[j+1] = key"
   ],
   "metadata": {
    "collapsed": false
   }
  },
  {
   "cell_type": "code",
   "execution_count": 177,
   "outputs": [],
   "source": [
    "# quick sort\n",
    "def quick_sort(arr):\n",
    "    if len(arr) <= 1:\n",
    "        return arr\n",
    "    pivot = arr[len(arr) // 2]\n",
    "    left = [x for x in arr if x < pivot]\n",
    "    middle = [x for x in arr if x == pivot]\n",
    "    right = [x for x in arr if x > pivot]\n",
    "    return quick_sort(left) + middle + quick_sort(right)"
   ],
   "metadata": {
    "collapsed": false
   }
  },
  {
   "cell_type": "code",
   "execution_count": 178,
   "outputs": [],
   "source": [
    "# merge sort\n",
    "def merge_sort(arr):\n",
    "    if len(arr) <= 1:\n",
    "        return arr\n",
    "    mid = len(arr) // 2\n",
    "    left = merge_sort(arr[:mid])\n",
    "    right = merge_sort(arr[mid:])\n",
    "    return merge(left, right)\n",
    "def merge(left, right):\n",
    "    result = []\n",
    "    i = j = 0\n",
    "    while i < len(left) and j < len(right):\n",
    "        if left[i] < right[j]:\n",
    "            result.append(left[i])\n",
    "            i += 1\n",
    "        else:\n",
    "            result.append(right[j])\n",
    "            j += 1\n",
    "    result += left[i:]\n",
    "    result += right[j:]\n",
    "    return result"
   ],
   "metadata": {
    "collapsed": false
   }
  },
  {
   "cell_type": "code",
   "execution_count": 179,
   "outputs": [],
   "source": [
    "# heap sort\n",
    "def heap_sort(arr):\n",
    "    n = len(arr)\n",
    "    for i in range(n // 2 - 1, -1, -1):\n",
    "        heapify(arr, n, i)\n",
    "    for i in range(n - 1, 0, -1):\n",
    "        arr[0], arr[i] = arr[i], arr[0]\n",
    "        heapify(arr, i, 0)\n",
    "\n",
    "def heapify(arr, n, i):\n",
    "    largest = i\n",
    "    l = 2 * i + 1\n",
    "    r = 2 * i + 2\n",
    "    if l < n and arr[l] > arr[largest]:\n",
    "        largest = l\n",
    "    if r < n and arr[r] > arr[largest]:\n",
    "        largest = r\n",
    "    if largest != i:\n",
    "        arr[i], arr[largest] = arr[largest], arr[i]\n",
    "        heapify(arr, n, largest)"
   ],
   "metadata": {
    "collapsed": false
   }
  },
  {
   "cell_type": "code",
   "execution_count": 180,
   "outputs": [],
   "source": [
    "# counting sort\n",
    "def counting_sort(arr):\n",
    "    max_val = max(arr)\n",
    "    min_val = min(arr)\n",
    "    range_size = max_val - min_val + 1\n",
    "    count = [0] * range_size\n",
    "    output = [0] * len(arr)\n",
    "\n",
    "    for num in arr:\n",
    "        count[num - min_val] += 1\n",
    "\n",
    "    for i in range(1, range_size):\n",
    "        count[i] += count[i - 1]\n",
    "\n",
    "    for i in reversed(range(len(arr))):\n",
    "        output[count[arr[i] - min_val] - 1] = arr[i]\n",
    "        count[arr[i] - min_val] -= 1\n",
    "\n",
    "    for i in range(len(arr)):\n",
    "        arr[i] = output[i]"
   ],
   "metadata": {
    "collapsed": false
   }
  },
  {
   "cell_type": "code",
   "execution_count": 181,
   "outputs": [],
   "source": [
    "def counting_sort_for_radix(array, exp, is_str):\n",
    "    n = len(array)\n",
    "    count = [0] * (256 if is_str else 10)\n",
    "    for i in range(n):\n",
    "        index = ord(array[i][exp]) if is_str else (array[i] // exp) % 10\n",
    "        count[index] += 1\n",
    "    for i in range(1, len(count)):\n",
    "        count[i] += count[i - 1]\n",
    "    output = [0] * n\n",
    "    for i in range(n - 1, -1, -1):\n",
    "        index = ord(array[i][exp]) if is_str else (array[i] // exp) % 10\n",
    "        output[count[index] - 1] = array[i]\n",
    "        count[index] -= 1\n",
    "\n",
    "    for i in range(n):\n",
    "        array[i] = output[i]\n",
    "\n",
    "def radix_sort(array, is_str=False):\n",
    "    if len(array) == 0:\n",
    "        return\n",
    "\n",
    "    if is_str:\n",
    "        max_length = max(len(s) for s in array)\n",
    "        for exp in range(max_length - 1, -1, -1):\n",
    "            padded_array = [s.ljust(max_length, '\\0') for s in array]\n",
    "            counting_sort_for_radix(padded_array, exp, True)\n",
    "            for i in range(len(array)):\n",
    "                array[i] = padded_array[i].rstrip('\\0')\n",
    "    else:\n",
    "        max_num = max(array)\n",
    "        exp = 1\n",
    "        while max_num // exp > 0:\n",
    "            counting_sort_for_radix(array, exp, False)\n",
    "            exp *= 10"
   ],
   "metadata": {
    "collapsed": false
   }
  },
  {
   "cell_type": "code",
   "execution_count": 182,
   "outputs": [],
   "source": [
    "# tree sort node class\n",
    "class TreeNode:\n",
    "    def __init__(self, key):\n",
    "        self.key = key\n",
    "        self.left = None\n",
    "        self.right = None\n",
    "        self.height = 1"
   ],
   "metadata": {
    "collapsed": false
   }
  },
  {
   "cell_type": "code",
   "execution_count": 183,
   "outputs": [],
   "source": [
    "# BST\n",
    "class BST:\n",
    "    def __init__(self):\n",
    "        self.root = None\n",
    "\n",
    "    def insert(self, root, key):\n",
    "        if root is None:\n",
    "            return TreeNode(key)\n",
    "        if key <= root.key:\n",
    "            root.left = self.insert(root.left, key)\n",
    "        else:\n",
    "            root.right = self.insert(root.right, key)\n",
    "        return root\n",
    "\n",
    "    def inorder(self, root, res):\n",
    "        if root:\n",
    "            self.inorder(root.left, res)\n",
    "            res.append(root.key)\n",
    "            self.inorder(root.right, res)\n",
    "# AVL\n",
    "class AVLTree:\n",
    "    def __init__(self):\n",
    "        self.root = None\n",
    "\n",
    "    def insert(self, root, key):\n",
    "        if not root:\n",
    "            return TreeNode(key)\n",
    "        if key <= root.key:\n",
    "            root.left = self.insert(root.left, key)\n",
    "        else:\n",
    "            root.right = self.insert(root.right, key)\n",
    "\n",
    "        root.height = 1 + max(self.getHeight(root.left), self.getHeight(root.right))\n",
    "\n",
    "        balance = self.getBalance(root)\n",
    "\n",
    "        if balance > 1 and key <= root.left.key:\n",
    "            return self.rightRotate(root)\n",
    "        if balance < -1 and key > root.right.key:\n",
    "            return self.leftRotate(root)\n",
    "        if balance > 1 and key > root.left.key:\n",
    "            root.left = self.leftRotate(root.left)\n",
    "            return self.rightRotate(root)\n",
    "        if balance < -1 and key <= root.right.key:\n",
    "            root.right = self.rightRotate(root.right)\n",
    "            return self.leftRotate(root)\n",
    "\n",
    "        return root\n",
    "\n",
    "    def leftRotate(self, z):\n",
    "        y = z.right\n",
    "        T2 = y.left\n",
    "        y.left = z\n",
    "        z.right = T2\n",
    "        z.height = 1 + max(self.getHeight(z.left), self.getHeight(z.right))\n",
    "        y.height = 1 + max(self.getHeight(y.left), self.getHeight(y.right))\n",
    "        return y\n",
    "\n",
    "    def rightRotate(self, y):\n",
    "        x = y.left\n",
    "        T3 = x.right\n",
    "        x.right = y\n",
    "        y.left = T3\n",
    "        y.height = 1 + max(self.getHeight(y.left), self.getHeight(y.right))\n",
    "        x.height = 1 + max(self.getHeight(x.left), self.getHeight(x.right))\n",
    "        return x\n",
    "\n",
    "    def getHeight(self, root):\n",
    "        if not root:\n",
    "            return 0\n",
    "        return root.height\n",
    "\n",
    "    def getBalance(self, root):\n",
    "        if not root:\n",
    "            return 0\n",
    "        return self.getHeight(root.left) - self.getHeight(root.right)\n",
    "\n",
    "    def inorder(self, root, res):\n",
    "        if root:\n",
    "            self.inorder(root.left, res)\n",
    "            res.append(root.key)\n",
    "            self.inorder(root.right, res)"
   ],
   "metadata": {
    "collapsed": false
   }
  },
  {
   "cell_type": "code",
   "execution_count": 184,
   "outputs": [],
   "source": [
    "# bst sort and avl sort\n",
    "def bst_sort(arr):\n",
    "    if not arr:\n",
    "        return []\n",
    "    bst = BST()\n",
    "    for num in arr:\n",
    "        bst.root = bst.insert(bst.root, num)\n",
    "    sorted_arr = []\n",
    "    bst.inorder(bst.root, sorted_arr)\n",
    "    return sorted_arr\n",
    "\n",
    "def avl_sort(arr):\n",
    "    if not arr:\n",
    "        return []\n",
    "    avl = AVLTree()\n",
    "    for num in arr:\n",
    "        avl.root = avl.insert(avl.root, num)\n",
    "    sorted_arr = []\n",
    "    avl.inorder(avl.root, sorted_arr)\n",
    "    return sorted_arr"
   ],
   "metadata": {
    "collapsed": false
   }
  },
  {
   "cell_type": "code",
   "execution_count": 185,
   "outputs": [],
   "source": [
    "# test function, determine whether to modify the array in place\n",
    "def test_sort(func, in_place=True):\n",
    "    test_arr = [5, 2, 9, 1, 5, 6]\n",
    "    sorted_arr = sorted(test_arr)\n",
    "    arr = test_arr.copy()\n",
    "    if in_place:\n",
    "        func(arr)\n",
    "        result = arr\n",
    "    else:\n",
    "        result = func(arr)\n",
    "    assert result == sorted_arr, f\"{func.__name__} didn't sort correctly.\""
   ],
   "metadata": {
    "collapsed": false
   }
  },
  {
   "cell_type": "code",
   "execution_count": 186,
   "outputs": [],
   "source": [
    "# Testing sorting functions\n",
    "test_sort(bubble_sort, in_place=True)\n",
    "test_sort(selection_sort, in_place=True)\n",
    "test_sort(insertion_sort, in_place=True)\n",
    "test_sort(quick_sort, in_place=False)\n",
    "test_sort(merge_sort, in_place=False)\n",
    "test_sort(heap_sort, in_place=True)\n",
    "test_sort(radix_sort, in_place=True)\n",
    "test_sort(counting_sort, in_place=True)\n",
    "test_sort(bst_sort, in_place=False)\n",
    "test_sort(avl_sort, in_place=False)"
   ],
   "metadata": {
    "collapsed": false
   }
  },
  {
   "cell_type": "code",
   "execution_count": 187,
   "outputs": [
    {
     "data": {
      "text/plain": "    0                    1         2      5\n0  31  2023-12-04 08:34:50  01F3640S   7.20\n1  32  2023-12-04 08:16:35  01F3185N  20.03\n2  31  2023-12-04 08:20:36  01F0578S  13.00\n3  31  2023-12-04 08:02:25  03F0498N  19.50\n4  31  2023-12-04 08:15:54  01F0467N  25.90",
      "text/html": "<div>\n<style scoped>\n    .dataframe tbody tr th:only-of-type {\n        vertical-align: middle;\n    }\n\n    .dataframe tbody tr th {\n        vertical-align: top;\n    }\n\n    .dataframe thead th {\n        text-align: right;\n    }\n</style>\n<table border=\"1\" class=\"dataframe\">\n  <thead>\n    <tr style=\"text-align: right;\">\n      <th></th>\n      <th>0</th>\n      <th>1</th>\n      <th>2</th>\n      <th>5</th>\n    </tr>\n  </thead>\n  <tbody>\n    <tr>\n      <th>0</th>\n      <td>31</td>\n      <td>2023-12-04 08:34:50</td>\n      <td>01F3640S</td>\n      <td>7.20</td>\n    </tr>\n    <tr>\n      <th>1</th>\n      <td>32</td>\n      <td>2023-12-04 08:16:35</td>\n      <td>01F3185N</td>\n      <td>20.03</td>\n    </tr>\n    <tr>\n      <th>2</th>\n      <td>31</td>\n      <td>2023-12-04 08:20:36</td>\n      <td>01F0578S</td>\n      <td>13.00</td>\n    </tr>\n    <tr>\n      <th>3</th>\n      <td>31</td>\n      <td>2023-12-04 08:02:25</td>\n      <td>03F0498N</td>\n      <td>19.50</td>\n    </tr>\n    <tr>\n      <th>4</th>\n      <td>31</td>\n      <td>2023-12-04 08:15:54</td>\n      <td>01F0467N</td>\n      <td>25.90</td>\n    </tr>\n  </tbody>\n</table>\n</div>"
     },
     "execution_count": 187,
     "metadata": {},
     "output_type": "execute_result"
    }
   ],
   "source": [
    "df = pd.read_csv('TDCS_M06A_20231204_080000.csv',header=None)\n",
    "df = df.iloc[:,[0,1,2,5]]\n",
    "df.head()"
   ],
   "metadata": {
    "collapsed": false
   }
  },
  {
   "cell_type": "code",
   "execution_count": 188,
   "outputs": [
    {
     "data": {
      "text/plain": "31    153353\n32     53725\n42      9901\n5       7565\n41      3025\nName: 0, dtype: int64"
     },
     "execution_count": 188,
     "metadata": {},
     "output_type": "execute_result"
    }
   ],
   "source": [
    "df[0].value_counts()"
   ],
   "metadata": {
    "collapsed": false
   }
  },
  {
   "cell_type": "code",
   "execution_count": 169,
   "outputs": [
    {
     "data": {
      "text/plain": "2023-12-04 08:15:00    98\n2023-12-04 08:02:40    97\n2023-12-04 08:04:54    91\n2023-12-04 08:00:48    91\n2023-12-04 08:34:20    90\n                       ..\n2023-12-04 08:39:01    39\n2023-12-04 08:52:56    39\n2023-12-04 08:23:15    39\n2023-12-04 08:52:26    38\n2023-12-04 08:58:54    33\nName: 1, Length: 3600, dtype: int64"
     },
     "execution_count": 169,
     "metadata": {},
     "output_type": "execute_result"
    }
   ],
   "source": [
    "df[1].value_counts()"
   ],
   "metadata": {
    "collapsed": false
   }
  },
  {
   "cell_type": "code",
   "execution_count": 189,
   "outputs": [
    {
     "data": {
      "text/plain": "01F3696N    5205\n01F3640N    3547\n01F0248S    3204\n01F3640S    2976\n01F0376N    2950\n            ... \n03F1022S       1\n05F0439S       1\n01H0333N       1\n03F2709N       1\n01F1960S       1\nName: 2, Length: 326, dtype: int64"
     },
     "execution_count": 189,
     "metadata": {},
     "output_type": "execute_result"
    }
   ],
   "source": [
    "df[2].value_counts()"
   ],
   "metadata": {
    "collapsed": false
   }
  },
  {
   "cell_type": "code",
   "execution_count": 190,
   "outputs": [],
   "source": [
    "# VehicleType/DirectionTime_O/GantryID_O/TripLength\n",
    "from datetime import datetime\n",
    "VT = np.array(df.iloc[:,0])\n",
    "DT = np.array(df.iloc[:,1])\n",
    "DT = [datetime.strptime(d, \"%Y-%m-%d %H:%M:%S\") for d in DT]\n",
    "GID = np.array(df.iloc[:,2])\n",
    "TL = np.array(df.iloc[:,3])"
   ],
   "metadata": {
    "collapsed": false
   }
  },
  {
   "cell_type": "code",
   "execution_count": 191,
   "outputs": [
    {
     "name": "stdout",
     "output_type": "stream",
     "text": [
      "data type of VehicleType is: <class 'numpy.int64'>\n",
      "data type of DirectionTime_O is: <class 'datetime.datetime'>\n",
      "data type of GantryID_O is: <class 'str'>\n",
      "data type of TripLength is: <class 'numpy.float64'>\n"
     ]
    }
   ],
   "source": [
    "print('data type of VehicleType is:',type(VT[0]))\n",
    "print('data type of DirectionTime_O is:',type(DT[0]))\n",
    "print('data type of GantryID_O is:',type(GID[0]))\n",
    "print('data type of TripLength is:',type(TL[0]))"
   ],
   "metadata": {
    "collapsed": false
   }
  },
  {
   "cell_type": "code",
   "execution_count": 195,
   "outputs": [
    {
     "data": {
      "text/plain": "<Figure size 1000x600 with 1 Axes>",
      "image/png": "[encoded data removed]"
     },
     "metadata": {},
     "output_type": "display_data"
    }
   ],
   "source": [
    "n = len(TL)/100\n",
    "sizes = [round(n/5),round(n/4),round(n/3),round(n/2),round(n)]\n",
    "times_bubble = []\n",
    "times_selection = []\n",
    "times_insertion = []\n",
    "times_quick = []\n",
    "times_merge = []\n",
    "times_heap = []\n",
    "times_bst = []\n",
    "times_avl = []\n",
    "times_count = []\n",
    "times_radix = []\n",
    "\n",
    "for size in sizes:\n",
    "    arr = VT[0:size]\n",
    "\n",
    "    # 测试冒泡排序\n",
    "    arr_bubble = arr.copy()\n",
    "    start = time.time()\n",
    "    bubble_sort(arr_bubble)\n",
    "    end = time.time()\n",
    "    times_bubble.append(end - start)\n",
    "\n",
    "    # 测试选择排序\n",
    "    arr_selection = arr.copy()\n",
    "    start = time.time()\n",
    "    selection_sort(arr_selection)\n",
    "    end = time.time()\n",
    "    times_selection.append(end - start)\n",
    "\n",
    "    # 测试插入排序\n",
    "    arr_insertion = arr.copy()\n",
    "    start = time.time()\n",
    "    insertion_sort(arr_insertion)\n",
    "    end = time.time()\n",
    "    times_insertion.append(end - start)\n",
    "\n",
    "\n",
    "\n",
    "t_avg = (times_bubble[0] + times_selection[0] + times_insertion[0]) / 3\n",
    "k1 = t_avg / sizes[0]\n",
    "k2 = t_avg / (sizes[0]**2)\n",
    "# 生成O(n)参考线的y值\n",
    "y_reference_1 = [k1 * size for size in sizes]\n",
    "y_reference_2 = [k2 * size**2 for size in sizes]\n",
    "# 绘制折线图\n",
    "plt.figure(figsize=(10,6))\n",
    "plt.plot(sizes, times_bubble, label='Bubble Sort', color='red', linestyle='--', marker='o', linewidth=2, markersize=8)\n",
    "plt.plot(sizes, times_selection, label='Selection Sort', color='blue', linestyle='-.', marker='s', linewidth=2, markersize=8)\n",
    "plt.plot(sizes, times_insertion, label='Insertion Sort', color='green', linestyle=':', marker='^', linewidth=2, markersize=8)\n",
    "plt.plot(sizes, y_reference_1, label='O(n) Reference', color='black', linestyle='-', linewidth=2)\n",
    "plt.plot(sizes, y_reference_2, label='O(n^2) Reference', color='black', linestyle='--', linewidth=2)\n",
    "plt.xlabel('Array Size', fontsize=14)\n",
    "plt.ylabel('Time (seconds)', fontsize=14)\n",
    "plt.title('Sorting Algorithm Comparison', fontsize=16, fontweight='bold')\n",
    "plt.legend(loc='upper left', bbox_to_anchor=(1,1), fontsize=12)\n",
    "plt.grid(True)\n",
    "plt.tight_layout()\n",
    "plt.show()"
   ],
   "metadata": {
    "collapsed": false
   }
  }
 ],
 "metadata": {
  "kernelspec": {
   "display_name": "Python 3",
   "language": "python",
   "name": "python3"
  },
  "language_info": {
   "codemirror_mode": {
    "name": "ipython",
    "version": 2
   },
   "file_extension": ".py",
   "mimetype": "text/x-python",
   "name": "python",
   "nbconvert_exporter": "python",
   "pygments_lexer": "ipython2",
   "version": "2.7.6"
  }
 },
 "nbformat": 4,
 "nbformat_minor": 0
}
